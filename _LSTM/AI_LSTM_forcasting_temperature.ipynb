{
 "cells": [
  {
   "cell_type": "code",
   "execution_count": 2,
   "metadata": {},
   "outputs": [
    {
     "name": "stderr",
     "output_type": "stream",
     "text": [
      "Using TensorFlow backend.\n"
     ]
    }
   ],
   "source": [
    "import numpy as np\n",
    "import pandas as pd\n",
    "import matplotlib.pyplot as plt\n",
    "%matplotlib inline\n",
    "from statsmodels.tools.eval_measures import rmse\n",
    "from sklearn.preprocessing import MinMaxScaler\n",
    "from keras.preprocessing.sequence import TimeseriesGenerator\n",
    "from keras.models import Sequential\n",
    "from keras.layers import Dense\n",
    "from keras.layers import LSTM\n",
    "from keras.layers import Dropout\n",
    "import warnings\n",
    "warnings.filterwarnings(\"ignore\")\n",
    "\n",
    "df = pd.read_csv('File1.csv')"
   ]
  },
  {
   "cell_type": "code",
   "execution_count": 3,
   "metadata": {},
   "outputs": [
    {
     "data": {
      "text/html": [
       "<div>\n",
       "<style scoped>\n",
       "    .dataframe tbody tr th:only-of-type {\n",
       "        vertical-align: middle;\n",
       "    }\n",
       "\n",
       "    .dataframe tbody tr th {\n",
       "        vertical-align: top;\n",
       "    }\n",
       "\n",
       "    .dataframe thead th {\n",
       "        text-align: right;\n",
       "    }\n",
       "</style>\n",
       "<table border=\"1\" class=\"dataframe\">\n",
       "  <thead>\n",
       "    <tr style=\"text-align: right;\">\n",
       "      <th></th>\n",
       "      <th>urutan</th>\n",
       "      <th>bulan</th>\n",
       "      <th>data</th>\n",
       "      <th>rata2</th>\n",
       "    </tr>\n",
       "  </thead>\n",
       "  <tbody>\n",
       "    <tr>\n",
       "      <td>0</td>\n",
       "      <td>0</td>\n",
       "      <td>1983-01-01</td>\n",
       "      <td>54598.367107</td>\n",
       "      <td>29.673026</td>\n",
       "    </tr>\n",
       "    <tr>\n",
       "      <td>1</td>\n",
       "      <td>1</td>\n",
       "      <td>1983-02-01</td>\n",
       "      <td>54663.252209</td>\n",
       "      <td>29.708289</td>\n",
       "    </tr>\n",
       "    <tr>\n",
       "      <td>2</td>\n",
       "      <td>2</td>\n",
       "      <td>1983-03-01</td>\n",
       "      <td>55475.812933</td>\n",
       "      <td>30.149898</td>\n",
       "    </tr>\n",
       "    <tr>\n",
       "      <td>3</td>\n",
       "      <td>3</td>\n",
       "      <td>1983-04-01</td>\n",
       "      <td>55155.629024</td>\n",
       "      <td>29.975885</td>\n",
       "    </tr>\n",
       "    <tr>\n",
       "      <td>4</td>\n",
       "      <td>4</td>\n",
       "      <td>1983-05-01</td>\n",
       "      <td>53593.976395</td>\n",
       "      <td>29.127161</td>\n",
       "    </tr>\n",
       "    <tr>\n",
       "      <td>...</td>\n",
       "      <td>...</td>\n",
       "      <td>...</td>\n",
       "      <td>...</td>\n",
       "      <td>...</td>\n",
       "    </tr>\n",
       "    <tr>\n",
       "      <td>403</td>\n",
       "      <td>403</td>\n",
       "      <td>2016-08-01</td>\n",
       "      <td>56240.606407</td>\n",
       "      <td>30.565547</td>\n",
       "    </tr>\n",
       "    <tr>\n",
       "      <td>404</td>\n",
       "      <td>404</td>\n",
       "      <td>2016-09-01</td>\n",
       "      <td>56647.585022</td>\n",
       "      <td>30.786731</td>\n",
       "    </tr>\n",
       "    <tr>\n",
       "      <td>405</td>\n",
       "      <td>405</td>\n",
       "      <td>2016-10-01</td>\n",
       "      <td>56401.566578</td>\n",
       "      <td>30.653025</td>\n",
       "    </tr>\n",
       "    <tr>\n",
       "      <td>406</td>\n",
       "      <td>406</td>\n",
       "      <td>2016-11-01</td>\n",
       "      <td>54655.972265</td>\n",
       "      <td>29.704333</td>\n",
       "    </tr>\n",
       "    <tr>\n",
       "      <td>407</td>\n",
       "      <td>407</td>\n",
       "      <td>2016-12-01</td>\n",
       "      <td>53373.651503</td>\n",
       "      <td>29.007419</td>\n",
       "    </tr>\n",
       "  </tbody>\n",
       "</table>\n",
       "<p>408 rows × 4 columns</p>\n",
       "</div>"
      ],
      "text/plain": [
       "     urutan       bulan          data      rata2\n",
       "0         0  1983-01-01  54598.367107  29.673026\n",
       "1         1  1983-02-01  54663.252209  29.708289\n",
       "2         2  1983-03-01  55475.812933  30.149898\n",
       "3         3  1983-04-01  55155.629024  29.975885\n",
       "4         4  1983-05-01  53593.976395  29.127161\n",
       "..      ...         ...           ...        ...\n",
       "403     403  2016-08-01  56240.606407  30.565547\n",
       "404     404  2016-09-01  56647.585022  30.786731\n",
       "405     405  2016-10-01  56401.566578  30.653025\n",
       "406     406  2016-11-01  54655.972265  29.704333\n",
       "407     407  2016-12-01  53373.651503  29.007419\n",
       "\n",
       "[408 rows x 4 columns]"
      ]
     },
     "execution_count": 3,
     "metadata": {},
     "output_type": "execute_result"
    }
   ],
   "source": [
    "df"
   ]
  },
  {
   "cell_type": "code",
   "execution_count": 4,
   "metadata": {},
   "outputs": [],
   "source": [
    "df=df.drop(columns=['urutan','rata2'])"
   ]
  },
  {
   "cell_type": "code",
   "execution_count": 5,
   "metadata": {},
   "outputs": [],
   "source": [
    "df.bulan = pd.to_datetime(df.bulan)\n",
    "df = df.set_index(\"bulan\")\n",
    "data_ = df[:-48]\n",
    "df=df[:-60]"
   ]
  },
  {
   "cell_type": "code",
   "execution_count": 6,
   "metadata": {},
   "outputs": [],
   "source": [
    "train, test = df[:-12], df[-12:]"
   ]
  },
  {
   "cell_type": "code",
   "execution_count": 7,
   "metadata": {},
   "outputs": [
    {
     "data": {
      "text/html": [
       "<div>\n",
       "<style scoped>\n",
       "    .dataframe tbody tr th:only-of-type {\n",
       "        vertical-align: middle;\n",
       "    }\n",
       "\n",
       "    .dataframe tbody tr th {\n",
       "        vertical-align: top;\n",
       "    }\n",
       "\n",
       "    .dataframe thead th {\n",
       "        text-align: right;\n",
       "    }\n",
       "</style>\n",
       "<table border=\"1\" class=\"dataframe\">\n",
       "  <thead>\n",
       "    <tr style=\"text-align: right;\">\n",
       "      <th></th>\n",
       "      <th>data</th>\n",
       "    </tr>\n",
       "    <tr>\n",
       "      <th>bulan</th>\n",
       "      <th></th>\n",
       "    </tr>\n",
       "  </thead>\n",
       "  <tbody>\n",
       "    <tr>\n",
       "      <td>2011-01-01</td>\n",
       "      <td>53383.553333</td>\n",
       "    </tr>\n",
       "    <tr>\n",
       "      <td>2011-02-01</td>\n",
       "      <td>54448.821884</td>\n",
       "    </tr>\n",
       "    <tr>\n",
       "      <td>2011-03-01</td>\n",
       "      <td>54605.942356</td>\n",
       "    </tr>\n",
       "    <tr>\n",
       "      <td>2011-04-01</td>\n",
       "      <td>54671.303606</td>\n",
       "    </tr>\n",
       "    <tr>\n",
       "      <td>2011-05-01</td>\n",
       "      <td>55088.278383</td>\n",
       "    </tr>\n",
       "    <tr>\n",
       "      <td>2011-06-01</td>\n",
       "      <td>54427.702154</td>\n",
       "    </tr>\n",
       "    <tr>\n",
       "      <td>2011-07-01</td>\n",
       "      <td>54512.308691</td>\n",
       "    </tr>\n",
       "    <tr>\n",
       "      <td>2011-08-01</td>\n",
       "      <td>55491.552910</td>\n",
       "    </tr>\n",
       "    <tr>\n",
       "      <td>2011-09-01</td>\n",
       "      <td>56272.064661</td>\n",
       "    </tr>\n",
       "    <tr>\n",
       "      <td>2011-10-01</td>\n",
       "      <td>57656.119730</td>\n",
       "    </tr>\n",
       "    <tr>\n",
       "      <td>2011-11-01</td>\n",
       "      <td>55193.612081</td>\n",
       "    </tr>\n",
       "    <tr>\n",
       "      <td>2011-12-01</td>\n",
       "      <td>54530.663734</td>\n",
       "    </tr>\n",
       "  </tbody>\n",
       "</table>\n",
       "</div>"
      ],
      "text/plain": [
       "                    data\n",
       "bulan                   \n",
       "2011-01-01  53383.553333\n",
       "2011-02-01  54448.821884\n",
       "2011-03-01  54605.942356\n",
       "2011-04-01  54671.303606\n",
       "2011-05-01  55088.278383\n",
       "2011-06-01  54427.702154\n",
       "2011-07-01  54512.308691\n",
       "2011-08-01  55491.552910\n",
       "2011-09-01  56272.064661\n",
       "2011-10-01  57656.119730\n",
       "2011-11-01  55193.612081\n",
       "2011-12-01  54530.663734"
      ]
     },
     "execution_count": 7,
     "metadata": {},
     "output_type": "execute_result"
    }
   ],
   "source": [
    "test"
   ]
  },
  {
   "cell_type": "code",
   "execution_count": 8,
   "metadata": {},
   "outputs": [],
   "source": [
    "scaler = MinMaxScaler()\n",
    "scaler.fit(train)\n",
    "train = scaler.transform(train)\n",
    "test = scaler.transform(test)"
   ]
  },
  {
   "cell_type": "code",
   "execution_count": 9,
   "metadata": {},
   "outputs": [],
   "source": [
    "n_input = 12\n",
    "n_features = 1\n",
    "generator = TimeseriesGenerator(train, train, length=n_input, batch_size=6)"
   ]
  },
  {
   "cell_type": "code",
   "execution_count": 10,
   "metadata": {},
   "outputs": [],
   "source": [
    "model = Sequential()\n",
    "model.add(LSTM(200, activation='relu', input_shape=(n_input, n_features)))\n",
    "model.add(Dropout(0.15))\n",
    "model.add(Dense(1))\n",
    "model.compile(optimizer='adam', loss='mse')"
   ]
  },
  {
   "cell_type": "code",
   "execution_count": 11,
   "metadata": {},
   "outputs": [
    {
     "name": "stdout",
     "output_type": "stream",
     "text": [
      "Epoch 1/90\n",
      "54/54 [==============================] - 1s 15ms/step - loss: 0.0616\n",
      "Epoch 2/90\n",
      "54/54 [==============================] - 1s 11ms/step - loss: 0.0405\n",
      "Epoch 3/90\n",
      "54/54 [==============================] - 1s 11ms/step - loss: 0.0384\n",
      "Epoch 4/90\n",
      "54/54 [==============================] - 1s 10ms/step - loss: 0.0361\n",
      "Epoch 5/90\n",
      "54/54 [==============================] - 1s 10ms/step - loss: 0.0346\n",
      "Epoch 6/90\n",
      "54/54 [==============================] - 1s 10ms/step - loss: 0.0304\n",
      "Epoch 7/90\n",
      "54/54 [==============================] - 1s 10ms/step - loss: 0.0290\n",
      "Epoch 8/90\n",
      "54/54 [==============================] - 1s 10ms/step - loss: 0.0286\n",
      "Epoch 9/90\n",
      "54/54 [==============================] - 1s 12ms/step - loss: 0.0293\n",
      "Epoch 10/90\n",
      "54/54 [==============================] - 1s 11ms/step - loss: 0.0259\n",
      "Epoch 11/90\n",
      "54/54 [==============================] - 1s 12ms/step - loss: 0.0289\n",
      "Epoch 12/90\n",
      "54/54 [==============================] - 1s 11ms/step - loss: 0.0267\n",
      "Epoch 13/90\n",
      "54/54 [==============================] - 1s 11ms/step - loss: 0.0269\n",
      "Epoch 14/90\n",
      "54/54 [==============================] - 1s 10ms/step - loss: 0.0244\n",
      "Epoch 15/90\n",
      "54/54 [==============================] - 1s 12ms/step - loss: 0.0271\n",
      "Epoch 16/90\n",
      "54/54 [==============================] - 1s 17ms/step - loss: 0.0292\n",
      "Epoch 17/90\n",
      "54/54 [==============================] - 1s 17ms/step - loss: 0.0249\n",
      "Epoch 18/90\n",
      "54/54 [==============================] - 1s 10ms/step - loss: 0.0289\n",
      "Epoch 19/90\n",
      "54/54 [==============================] - 1s 10ms/step - loss: 0.0246\n",
      "Epoch 20/90\n",
      "54/54 [==============================] - 1s 10ms/step - loss: 0.0273\n",
      "Epoch 21/90\n",
      "54/54 [==============================] - 1s 10ms/step - loss: 0.0239\n",
      "Epoch 22/90\n",
      "54/54 [==============================] - 1s 11ms/step - loss: 0.0246\n",
      "Epoch 23/90\n",
      "54/54 [==============================] - 1s 12ms/step - loss: 0.0234\n",
      "Epoch 24/90\n",
      "54/54 [==============================] - 1s 15ms/step - loss: 0.0261\n",
      "Epoch 25/90\n",
      "54/54 [==============================] - 1s 13ms/step - loss: 0.0235\n",
      "Epoch 26/90\n",
      "54/54 [==============================] - 1s 16ms/step - loss: 0.0232\n",
      "Epoch 27/90\n",
      "54/54 [==============================] - 1s 15ms/step - loss: 0.0242\n",
      "Epoch 28/90\n",
      "54/54 [==============================] - 1s 14ms/step - loss: 0.0229\n",
      "Epoch 29/90\n",
      "54/54 [==============================] - 1s 12ms/step - loss: 0.0235\n",
      "Epoch 30/90\n",
      "54/54 [==============================] - 1s 13ms/step - loss: 0.0232\n",
      "Epoch 31/90\n",
      "54/54 [==============================] - 1s 14ms/step - loss: 0.0226\n",
      "Epoch 32/90\n",
      "54/54 [==============================] - 1s 13ms/step - loss: 0.0219\n",
      "Epoch 33/90\n",
      "54/54 [==============================] - 1s 12ms/step - loss: 0.0240\n",
      "Epoch 34/90\n",
      "54/54 [==============================] - 1s 12ms/step - loss: 0.0235\n",
      "Epoch 35/90\n",
      "54/54 [==============================] - 1s 13ms/step - loss: 0.0220\n",
      "Epoch 36/90\n",
      "54/54 [==============================] - 1s 12ms/step - loss: 0.0226\n",
      "Epoch 37/90\n",
      "54/54 [==============================] - 1s 12ms/step - loss: 0.0213\n",
      "Epoch 38/90\n",
      "54/54 [==============================] - 1s 12ms/step - loss: 0.0217\n",
      "Epoch 39/90\n",
      "54/54 [==============================] - 1s 12ms/step - loss: 0.0210\n",
      "Epoch 40/90\n",
      "54/54 [==============================] - 1s 11ms/step - loss: 0.0207\n",
      "Epoch 41/90\n",
      "54/54 [==============================] - 1s 12ms/step - loss: 0.0193\n",
      "Epoch 42/90\n",
      "54/54 [==============================] - 1s 12ms/step - loss: 0.0205\n",
      "Epoch 43/90\n",
      "54/54 [==============================] - 1s 12ms/step - loss: 0.0201\n",
      "Epoch 44/90\n",
      "54/54 [==============================] - 1s 12ms/step - loss: 0.0217\n",
      "Epoch 45/90\n",
      "54/54 [==============================] - 1s 14ms/step - loss: 0.0210\n",
      "Epoch 46/90\n",
      "54/54 [==============================] - 1s 14ms/step - loss: 0.0204\n",
      "Epoch 47/90\n",
      "54/54 [==============================] - 1s 12ms/step - loss: 0.0200\n",
      "Epoch 48/90\n",
      "54/54 [==============================] - 1s 12ms/step - loss: 0.0197\n",
      "Epoch 49/90\n",
      "54/54 [==============================] - 1s 12ms/step - loss: 0.0186\n",
      "Epoch 50/90\n",
      "54/54 [==============================] - 1s 12ms/step - loss: 0.0197\n",
      "Epoch 51/90\n",
      "54/54 [==============================] - 1s 12ms/step - loss: 0.0201\n",
      "Epoch 52/90\n",
      "54/54 [==============================] - 1s 12ms/step - loss: 0.0206\n",
      "Epoch 53/90\n",
      "54/54 [==============================] - 1s 12ms/step - loss: 0.0206\n",
      "Epoch 54/90\n",
      "54/54 [==============================] - 1s 11ms/step - loss: 0.0196\n",
      "Epoch 55/90\n",
      "54/54 [==============================] - 1s 12ms/step - loss: 0.0201\n",
      "Epoch 56/90\n",
      "54/54 [==============================] - 1s 12ms/step - loss: 0.0198\n",
      "Epoch 57/90\n",
      "54/54 [==============================] - 1s 12ms/step - loss: 0.0192\n",
      "Epoch 58/90\n",
      "54/54 [==============================] - 1s 12ms/step - loss: 0.0194\n",
      "Epoch 59/90\n",
      "54/54 [==============================] - 1s 12ms/step - loss: 0.0197\n",
      "Epoch 60/90\n",
      "54/54 [==============================] - 1s 12ms/step - loss: 0.0178\n",
      "Epoch 61/90\n",
      "54/54 [==============================] - 1s 12ms/step - loss: 0.0196\n",
      "Epoch 62/90\n",
      "54/54 [==============================] - 1s 12ms/step - loss: 0.0193\n",
      "Epoch 63/90\n",
      "54/54 [==============================] - 1s 12ms/step - loss: 0.0187\n",
      "Epoch 64/90\n",
      "54/54 [==============================] - 1s 12ms/step - loss: 0.0186\n",
      "Epoch 65/90\n",
      "54/54 [==============================] - 1s 12ms/step - loss: 0.0186\n",
      "Epoch 66/90\n",
      "54/54 [==============================] - 1s 13ms/step - loss: 0.0187\n",
      "Epoch 67/90\n",
      "54/54 [==============================] - 1s 12ms/step - loss: 0.0168\n",
      "Epoch 68/90\n",
      "54/54 [==============================] - 1s 12ms/step - loss: 0.0182\n",
      "Epoch 69/90\n",
      "54/54 [==============================] - 1s 12ms/step - loss: 0.0193\n",
      "Epoch 70/90\n",
      "54/54 [==============================] - 1s 12ms/step - loss: 0.0176\n",
      "Epoch 71/90\n",
      "54/54 [==============================] - 1s 12ms/step - loss: 0.0174\n",
      "Epoch 72/90\n",
      "54/54 [==============================] - 1s 11ms/step - loss: 0.0188\n",
      "Epoch 73/90\n",
      "54/54 [==============================] - 1s 12ms/step - loss: 0.0179\n",
      "Epoch 74/90\n",
      "54/54 [==============================] - 1s 12ms/step - loss: 0.0174\n",
      "Epoch 75/90\n",
      "54/54 [==============================] - 1s 12ms/step - loss: 0.0178\n",
      "Epoch 76/90\n",
      "54/54 [==============================] - 1s 12ms/step - loss: 0.0177\n",
      "Epoch 77/90\n",
      "54/54 [==============================] - 1s 12ms/step - loss: 0.0188\n",
      "Epoch 78/90\n",
      "54/54 [==============================] - 1s 12ms/step - loss: 0.0180\n",
      "Epoch 79/90\n",
      "54/54 [==============================] - 1s 12ms/step - loss: 0.0175\n",
      "Epoch 80/90\n",
      "54/54 [==============================] - 1s 12ms/step - loss: 0.0175\n",
      "Epoch 81/90\n",
      "54/54 [==============================] - 1s 12ms/step - loss: 0.0166\n",
      "Epoch 82/90\n",
      "54/54 [==============================] - 1s 12ms/step - loss: 0.0168\n",
      "Epoch 83/90\n",
      "54/54 [==============================] - 1s 12ms/step - loss: 0.0163\n",
      "Epoch 84/90\n",
      "54/54 [==============================] - 1s 13ms/step - loss: 0.0164\n",
      "Epoch 85/90\n",
      "54/54 [==============================] - 1s 11ms/step - loss: 0.0170\n",
      "Epoch 86/90\n",
      "54/54 [==============================] - 1s 11ms/step - loss: 0.0163\n",
      "Epoch 87/90\n",
      "54/54 [==============================] - 1s 12ms/step - loss: 0.0163\n",
      "Epoch 88/90\n",
      "54/54 [==============================] - 1s 12ms/step - loss: 0.0168\n",
      "Epoch 89/90\n",
      "54/54 [==============================] - 1s 12ms/step - loss: 0.0162\n",
      "Epoch 90/90\n",
      "54/54 [==============================] - 1s 12ms/step - loss: 0.0173\n"
     ]
    },
    {
     "data": {
      "text/plain": [
       "<keras.callbacks.callbacks.History at 0x27dd6fbe6a0>"
      ]
     },
     "execution_count": 11,
     "metadata": {},
     "output_type": "execute_result"
    }
   ],
   "source": [
    "model.fit_generator(generator,epochs=90)"
   ]
  },
  {
   "cell_type": "code",
   "execution_count": 12,
   "metadata": {
    "scrolled": true
   },
   "outputs": [
    {
     "data": {
      "text/plain": [
       "array([[[0.36102168],\n",
       "        [0.59852961],\n",
       "        [0.66844751],\n",
       "        [0.56617411],\n",
       "        [0.35087187],\n",
       "        [0.51669255],\n",
       "        [0.32203385],\n",
       "        [0.53238923],\n",
       "        [0.46686082],\n",
       "        [0.58345887],\n",
       "        [0.39543495],\n",
       "        [0.01024521]]])"
      ]
     },
     "execution_count": 12,
     "metadata": {},
     "output_type": "execute_result"
    }
   ],
   "source": [
    "pred_list = []\n",
    "\n",
    "batch = train[-12:].reshape((1, n_input, n_features))\n",
    "batch"
   ]
  },
  {
   "cell_type": "code",
   "execution_count": 13,
   "metadata": {},
   "outputs": [
    {
     "data": {
      "text/plain": [
       "[array([0.18809068], dtype=float32),\n",
       " array([0.3101028], dtype=float32),\n",
       " array([0.45414525], dtype=float32),\n",
       " array([0.41580307], dtype=float32),\n",
       " array([0.3210248], dtype=float32),\n",
       " array([0.23074609], dtype=float32),\n",
       " array([0.2104836], dtype=float32),\n",
       " array([0.29087773], dtype=float32),\n",
       " array([0.42117268], dtype=float32),\n",
       " array([0.561422], dtype=float32),\n",
       " array([0.40837342], dtype=float32),\n",
       " array([0.27001908], dtype=float32)]"
      ]
     },
     "execution_count": 13,
     "metadata": {},
     "output_type": "execute_result"
    }
   ],
   "source": [
    "for i in range(n_input):   \n",
    "    pred_list.append(model.predict(batch)[0]) \n",
    "    batch = np.append(batch[:,1:,:],[[pred_list[i]]],axis=1)\n",
    "\n",
    "pred_list"
   ]
  },
  {
   "cell_type": "code",
   "execution_count": 14,
   "metadata": {},
   "outputs": [],
   "source": [
    "df_predict = pd.DataFrame(scaler.inverse_transform(pred_list),index=df[-n_input:].index, columns=['Prediction'])\n",
    "\n",
    "df_test = pd.concat([df,df_predict], axis=1)"
   ]
  },
  {
   "cell_type": "code",
   "execution_count": 15,
   "metadata": {},
   "outputs": [
    {
     "name": "stderr",
     "output_type": "stream",
     "text": [
      "No handles with labels found to put in legend.\n"
     ]
    },
    {
     "data": {
      "image/png": "[encoded data removed]",
      "text/plain": [
       "<Figure size 1440x360 with 1 Axes>"
      ]
     },
     "metadata": {
      "needs_background": "light"
     },
     "output_type": "display_data"
    }
   ],
   "source": [
    "plt.figure(figsize=(20, 5))\n",
    "plt.plot(df_test.index, df_test['data'])\n",
    "plt.plot(df_test.index, df_test['Prediction'], color='r')\n",
    "plt.legend(loc='best', fontsize='xx-large')\n",
    "plt.xticks(fontsize=18)\n",
    "plt.yticks(fontsize=16)\n",
    "plt.show()"
   ]
  },
  {
   "cell_type": "code",
   "execution_count": 16,
   "metadata": {},
   "outputs": [
    {
     "name": "stdout",
     "output_type": "stream",
     "text": [
      "rmse:  [840.40683622]\n"
     ]
    }
   ],
   "source": [
    "pred_actual_rmse = rmse(df_test.iloc[-n_input:, [0]], df_test.iloc[-n_input:, [1]])\n",
    "print(\"rmse: \", pred_actual_rmse)"
   ]
  },
  {
   "cell_type": "code",
   "execution_count": 17,
   "metadata": {},
   "outputs": [],
   "source": [
    "train = df"
   ]
  },
  {
   "cell_type": "code",
   "execution_count": 18,
   "metadata": {},
   "outputs": [],
   "source": [
    "scaler.fit(train)\n",
    "train = scaler.transform(train)"
   ]
  },
  {
   "cell_type": "code",
   "execution_count": 19,
   "metadata": {},
   "outputs": [],
   "source": [
    "n_input = 12\n",
    "n_features = 1\n",
    "generator = TimeseriesGenerator(train, train, length=n_input, batch_size=6)"
   ]
  },
  {
   "cell_type": "code",
   "execution_count": 20,
   "metadata": {
    "scrolled": false
   },
   "outputs": [
    {
     "name": "stdout",
     "output_type": "stream",
     "text": [
      "Epoch 1/90\n",
      "56/56 [==============================] - 1s 11ms/step - loss: 0.0169\n",
      "Epoch 2/90\n",
      "56/56 [==============================] - 1s 12ms/step - loss: 0.0152\n",
      "Epoch 3/90\n",
      "56/56 [==============================] - 1s 12ms/step - loss: 0.0160\n",
      "Epoch 4/90\n",
      "56/56 [==============================] - 1s 12ms/step - loss: 0.0147\n",
      "Epoch 5/90\n",
      "56/56 [==============================] - 1s 12ms/step - loss: 0.0155\n",
      "Epoch 6/90\n",
      "56/56 [==============================] - 1s 12ms/step - loss: 0.0155\n",
      "Epoch 7/90\n",
      "56/56 [==============================] - 1s 12ms/step - loss: 0.0156\n",
      "Epoch 8/90\n",
      "56/56 [==============================] - 1s 12ms/step - loss: 0.0158\n",
      "Epoch 9/90\n",
      "56/56 [==============================] - 1s 12ms/step - loss: 0.0146\n",
      "Epoch 10/90\n",
      "56/56 [==============================] - 1s 12ms/step - loss: 0.0153\n",
      "Epoch 11/90\n",
      "56/56 [==============================] - 1s 12ms/step - loss: 0.0160\n",
      "Epoch 12/90\n",
      "56/56 [==============================] - 1s 13ms/step - loss: 0.0143\n",
      "Epoch 13/90\n",
      "56/56 [==============================] - 1s 12ms/step - loss: 0.0155\n",
      "Epoch 14/90\n",
      "56/56 [==============================] - 1s 13ms/step - loss: 0.0145\n",
      "Epoch 15/90\n",
      "56/56 [==============================] - 1s 13ms/step - loss: 0.0148\n",
      "Epoch 16/90\n",
      "56/56 [==============================] - 1s 13ms/step - loss: 0.0149\n",
      "Epoch 17/90\n",
      "56/56 [==============================] - 1s 13ms/step - loss: 0.0150\n",
      "Epoch 18/90\n",
      "56/56 [==============================] - 1s 13ms/step - loss: 0.0150\n",
      "Epoch 19/90\n",
      "56/56 [==============================] - 1s 12ms/step - loss: 0.0150\n",
      "Epoch 20/90\n",
      "56/56 [==============================] - 1s 13ms/step - loss: 0.0146\n",
      "Epoch 21/90\n",
      "56/56 [==============================] - 1s 12ms/step - loss: 0.0140\n",
      "Epoch 22/90\n",
      "56/56 [==============================] - 1s 12ms/step - loss: 0.0137\n",
      "Epoch 23/90\n",
      "56/56 [==============================] - 1s 12ms/step - loss: 0.0140\n",
      "Epoch 24/90\n",
      "56/56 [==============================] - 1s 12ms/step - loss: 0.0143\n",
      "Epoch 25/90\n",
      "56/56 [==============================] - 1s 12ms/step - loss: 0.0148\n",
      "Epoch 26/90\n",
      "56/56 [==============================] - 1s 12ms/step - loss: 0.0143\n",
      "Epoch 27/90\n",
      "56/56 [==============================] - 1s 13ms/step - loss: 0.0148\n",
      "Epoch 28/90\n",
      "56/56 [==============================] - 1s 12ms/step - loss: 0.0140\n",
      "Epoch 29/90\n",
      "56/56 [==============================] - 1s 12ms/step - loss: 0.0139\n",
      "Epoch 30/90\n",
      "56/56 [==============================] - 1s 12ms/step - loss: 0.0139\n",
      "Epoch 31/90\n",
      "56/56 [==============================] - 1s 12ms/step - loss: 0.0134\n",
      "Epoch 32/90\n",
      "56/56 [==============================] - 1s 12ms/step - loss: 0.0138\n",
      "Epoch 33/90\n",
      "56/56 [==============================] - 1s 12ms/step - loss: 0.0127\n",
      "Epoch 34/90\n",
      "56/56 [==============================] - 1s 12ms/step - loss: 0.0133\n",
      "Epoch 35/90\n",
      "56/56 [==============================] - 1s 12ms/step - loss: 0.0141\n",
      "Epoch 36/90\n",
      "56/56 [==============================] - 1s 12ms/step - loss: 0.0134\n",
      "Epoch 37/90\n",
      "56/56 [==============================] - 1s 12ms/step - loss: 0.0138\n",
      "Epoch 38/90\n",
      "56/56 [==============================] - 1s 12ms/step - loss: 0.0132\n",
      "Epoch 39/90\n",
      "56/56 [==============================] - 1s 12ms/step - loss: 0.0137\n",
      "Epoch 40/90\n",
      "56/56 [==============================] - 1s 12ms/step - loss: 0.0133\n",
      "Epoch 41/90\n",
      "56/56 [==============================] - 1s 12ms/step - loss: 0.0130\n",
      "Epoch 42/90\n",
      "56/56 [==============================] - 1s 13ms/step - loss: 0.0125\n",
      "Epoch 43/90\n",
      "56/56 [==============================] - 1s 12ms/step - loss: 0.0138\n",
      "Epoch 44/90\n",
      "56/56 [==============================] - 1s 13ms/step - loss: 0.0124\n",
      "Epoch 45/90\n",
      "56/56 [==============================] - 1s 12ms/step - loss: 0.0128\n",
      "Epoch 46/90\n",
      "56/56 [==============================] - 1s 12ms/step - loss: 0.0135\n",
      "Epoch 47/90\n",
      "56/56 [==============================] - 1s 12ms/step - loss: 0.0125\n",
      "Epoch 48/90\n",
      "56/56 [==============================] - 1s 12ms/step - loss: 0.0125\n",
      "Epoch 49/90\n",
      "56/56 [==============================] - 1s 12ms/step - loss: 0.0122\n",
      "Epoch 50/90\n",
      "56/56 [==============================] - 1s 12ms/step - loss: 0.0116\n",
      "Epoch 51/90\n",
      "56/56 [==============================] - 1s 12ms/step - loss: 0.0130\n",
      "Epoch 52/90\n",
      "56/56 [==============================] - 1s 12ms/step - loss: 0.0123\n",
      "Epoch 53/90\n",
      "56/56 [==============================] - 1s 12ms/step - loss: 0.0125\n",
      "Epoch 54/90\n",
      "56/56 [==============================] - 1s 13ms/step - loss: 0.0122\n",
      "Epoch 55/90\n",
      "56/56 [==============================] - 1s 12ms/step - loss: 0.0118\n",
      "Epoch 56/90\n",
      "56/56 [==============================] - 1s 12ms/step - loss: 0.0122\n",
      "Epoch 57/90\n",
      "56/56 [==============================] - 1s 12ms/step - loss: 0.0125\n",
      "Epoch 58/90\n",
      "56/56 [==============================] - 1s 12ms/step - loss: 0.0123\n",
      "Epoch 59/90\n",
      "56/56 [==============================] - 1s 12ms/step - loss: 0.0120\n",
      "Epoch 60/90\n",
      "56/56 [==============================] - 1s 12ms/step - loss: 0.0121\n",
      "Epoch 61/90\n",
      "56/56 [==============================] - 1s 13ms/step - loss: 0.0120\n",
      "Epoch 62/90\n",
      "56/56 [==============================] - 1s 12ms/step - loss: 0.0114\n",
      "Epoch 63/90\n",
      "56/56 [==============================] - 1s 12ms/step - loss: 0.0114\n",
      "Epoch 64/90\n",
      "56/56 [==============================] - 1s 13ms/step - loss: 0.0121\n",
      "Epoch 65/90\n",
      "56/56 [==============================] - 1s 12ms/step - loss: 0.0115\n",
      "Epoch 66/90\n",
      "56/56 [==============================] - 1s 12ms/step - loss: 0.0119\n",
      "Epoch 67/90\n",
      "56/56 [==============================] - 1s 12ms/step - loss: 0.0107\n",
      "Epoch 68/90\n",
      "56/56 [==============================] - 1s 12ms/step - loss: 0.0121\n",
      "Epoch 69/90\n",
      "56/56 [==============================] - 1s 12ms/step - loss: 0.0114\n",
      "Epoch 70/90\n",
      "56/56 [==============================] - 1s 13ms/step - loss: 0.0104\n",
      "Epoch 71/90\n",
      "56/56 [==============================] - 1s 12ms/step - loss: 0.0106\n",
      "Epoch 72/90\n",
      "56/56 [==============================] - 1s 12ms/step - loss: 0.0125\n",
      "Epoch 73/90\n",
      "56/56 [==============================] - 1s 12ms/step - loss: 0.0111\n",
      "Epoch 74/90\n",
      "56/56 [==============================] - 1s 12ms/step - loss: 0.0101\n",
      "Epoch 75/90\n",
      "56/56 [==============================] - 1s 12ms/step - loss: 0.0112\n",
      "Epoch 76/90\n",
      "56/56 [==============================] - 1s 12ms/step - loss: 0.0109\n",
      "Epoch 77/90\n",
      "56/56 [==============================] - 1s 12ms/step - loss: 0.0111\n",
      "Epoch 78/90\n",
      "56/56 [==============================] - 1s 12ms/step - loss: 0.0114\n",
      "Epoch 79/90\n",
      "56/56 [==============================] - 1s 12ms/step - loss: 0.0106\n",
      "Epoch 80/90\n",
      "56/56 [==============================] - 1s 12ms/step - loss: 0.0100\n",
      "Epoch 81/90\n",
      "56/56 [==============================] - 1s 12ms/step - loss: 0.0107\n",
      "Epoch 82/90\n",
      "56/56 [==============================] - 1s 12ms/step - loss: 0.0097\n",
      "Epoch 83/90\n",
      "56/56 [==============================] - 1s 12ms/step - loss: 0.0097\n",
      "Epoch 84/90\n",
      "56/56 [==============================] - 1s 12ms/step - loss: 0.0098\n",
      "Epoch 85/90\n",
      "56/56 [==============================] - 1s 12ms/step - loss: 0.0098\n",
      "Epoch 86/90\n",
      "56/56 [==============================] - 1s 12ms/step - loss: 0.0097\n",
      "Epoch 87/90\n",
      "56/56 [==============================] - 1s 14ms/step - loss: 0.0092\n",
      "Epoch 88/90\n",
      "56/56 [==============================] - 1s 14ms/step - loss: 0.0095\n",
      "Epoch 89/90\n",
      "56/56 [==============================] - 1s 12ms/step - loss: 0.0100\n",
      "Epoch 90/90\n",
      "56/56 [==============================] - 1s 12ms/step - loss: 0.0095\n"
     ]
    },
    {
     "data": {
      "text/plain": [
       "<keras.callbacks.callbacks.History at 0x27dd86c1320>"
      ]
     },
     "execution_count": 20,
     "metadata": {},
     "output_type": "execute_result"
    }
   ],
   "source": [
    "model.fit_generator(generator,epochs=90)"
   ]
  },
  {
   "cell_type": "code",
   "execution_count": 21,
   "metadata": {},
   "outputs": [],
   "source": [
    "pred_list = []\n",
    "\n",
    "batch = train[-n_input:].reshape((1, n_input, n_features))\n",
    "\n",
    "for i in range(n_input):   \n",
    "    pred_list.append(model.predict(batch)[0]) \n",
    "    batch = np.append(batch[:,1:,:],[[pred_list[i]]],axis=1)"
   ]
  },
  {
   "cell_type": "code",
   "execution_count": 22,
   "metadata": {},
   "outputs": [],
   "source": [
    "from pandas.tseries.offsets import DateOffset\n",
    "add_dates = [df.index[-1] + DateOffset(months=x) for x in range(0,13) ]\n",
    "future_dates = pd.DataFrame(index=add_dates[1:],columns=df.columns)"
   ]
  },
  {
   "cell_type": "code",
   "execution_count": 23,
   "metadata": {},
   "outputs": [],
   "source": [
    "df_predict = pd.DataFrame(scaler.inverse_transform(pred_list),\n",
    "                          index=future_dates[-n_input:].index, columns=['Prediction'])\n",
    "\n",
    "df_proj = pd.concat([df,df_predict], axis=1)"
   ]
  },
  {
   "cell_type": "code",
   "execution_count": 24,
   "metadata": {},
   "outputs": [
    {
     "name": "stderr",
     "output_type": "stream",
     "text": [
      "No handles with labels found to put in legend.\n"
     ]
    },
    {
     "data": {
      "image/png": "[encoded data removed]",
      "text/plain": [
       "<Figure size 1440x360 with 1 Axes>"
      ]
     },
     "metadata": {
      "needs_background": "light"
     },
     "output_type": "display_data"
    }
   ],
   "source": [
    "df_asli = data_\n",
    "plt.figure(figsize=(20, 5))\n",
    "# plt.plot(df_proj.index, df_proj['data'])\n",
    "plt.plot(df_asli[-12:].index, df_asli['data'][-12:],color='b')\n",
    "plt.plot(df_proj[-12:].index, df_proj['Prediction'][-12:], color='r')\n",
    "plt.legend(loc='best', fontsize='xx-large')\n",
    "plt.xticks(fontsize=18)\n",
    "plt.yticks(fontsize=16)\n",
    "plt.show()"
   ]
  },
  {
   "cell_type": "code",
   "execution_count": 25,
   "metadata": {},
   "outputs": [
    {
     "data": {
      "text/plain": [
       "2012-01-01    0.598687\n",
       "2012-02-01   -0.472687\n",
       "2012-03-01    0.308560\n",
       "2012-04-01   -0.706606\n",
       "2012-05-01   -0.297313\n",
       "2012-06-01   -0.059871\n",
       "2012-07-01   -0.039364\n",
       "2012-08-01   -0.123166\n",
       "2012-09-01   -0.077212\n",
       "2012-10-01   -0.983764\n",
       "2012-11-01   -1.153078\n",
       "2012-12-01   -0.543407\n",
       "dtype: float64"
      ]
     },
     "execution_count": 25,
     "metadata": {},
     "output_type": "execute_result"
    }
   ],
   "source": [
    "MAE = df_proj['Prediction'][-12:]-df_asli['data'][-12:]\n",
    "MAE = MAE/1840\n",
    "MAE"
   ]
  },
  {
   "cell_type": "code",
   "execution_count": null,
   "metadata": {},
   "outputs": [],
   "source": []
  }
 ],
 "metadata": {
  "kernelspec": {
   "display_name": "Python 3",
   "language": "python",
   "name": "python3"
  },
  "language_info": {
   "codemirror_mode": {
    "name": "ipython",
    "version": 3
   },
   "file_extension": ".py",
   "mimetype": "text/x-python",
   "name": "python",
   "nbconvert_exporter": "python",
   "pygments_lexer": "ipython3",
   "version": "3.7.3"
  }
 },
 "nbformat": 4,
 "nbformat_minor": 2
}
