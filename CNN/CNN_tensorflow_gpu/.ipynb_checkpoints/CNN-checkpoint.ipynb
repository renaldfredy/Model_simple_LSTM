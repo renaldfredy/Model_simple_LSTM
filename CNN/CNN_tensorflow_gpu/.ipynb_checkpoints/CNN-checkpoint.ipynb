{
 "cells": [
  {
   "cell_type": "code",
   "execution_count": 1,
   "metadata": {},
   "outputs": [],
   "source": [
    "import tensorflow as tf\n",
    "from tensorflow.keras import Sequential\n",
    "from tensorflow.keras.layers import Flatten, Dense, Conv2D, MaxPool2D, Dropout"
   ]
  },
  {
   "cell_type": "code",
   "execution_count": 2,
   "metadata": {},
   "outputs": [
    {
     "name": "stdout",
     "output_type": "stream",
     "text": [
      "2.0.0\n"
     ]
    }
   ],
   "source": [
    "print(tf.__version__)"
   ]
  },
  {
   "cell_type": "code",
   "execution_count": 3,
   "metadata": {},
   "outputs": [],
   "source": [
    "import numpy as np\n",
    "import pickle\n",
    "import matplotlib.pyplot as plt\n",
    "\n",
    "X = pickle.load(open(\"../CNN_kagle_Dataset/X.pickle\",\"rb\"))\n",
    "y = pickle.load(open(\"../CNN_kagle_Dataset/y.pickle\",\"rb\"))"
   ]
  },
  {
   "cell_type": "code",
   "execution_count": 4,
   "metadata": {},
   "outputs": [
    {
     "data": {
      "image/png": "[encoded data removed]",
      "text/plain": [
       "<Figure size 432x288 with 1 Axes>"
      ]
     },
     "metadata": {
      "needs_background": "light"
     },
     "output_type": "display_data"
    }
   ],
   "source": [
    "classes_name = [\"cat\", \"dog\"]\n",
    "\n",
    "# x_train.max()\n",
    "plt.imshow(X[0],cmap=\"gray\")\n",
    "plt.show()"
   ]
  },
  {
   "cell_type": "code",
   "execution_count": 5,
   "metadata": {},
   "outputs": [
    {
     "name": "stdout",
     "output_type": "stream",
     "text": [
      "2494.6000000000004\n"
     ]
    }
   ],
   "source": [
    "IMG_SIZE = 50\n",
    "\n",
    "print(len(X)*0.1)\n",
    "\n",
    "X = np.array(X).reshape(-1, IMG_SIZE, IMG_SIZE,1)\n",
    "X = X/255.0\n",
    "X_train = X[:-2494]\n",
    "y_train = y[:-2494]\n",
    "X_test = X[-2495:-10]\n",
    "y_test = y[-2495:-10]"
   ]
  },
  {
   "cell_type": "code",
   "execution_count": 6,
   "metadata": {},
   "outputs": [
    {
     "data": {
      "text/plain": [
       "(22452, 50, 50, 1)"
      ]
     },
     "execution_count": 6,
     "metadata": {},
     "output_type": "execute_result"
    }
   ],
   "source": [
    "X_train.shape"
   ]
  },
  {
   "cell_type": "code",
   "execution_count": 7,
   "metadata": {},
   "outputs": [
    {
     "data": {
      "text/plain": [
       "array([[[[0.36078431],\n",
       "         [0.3372549 ],\n",
       "         [0.39607843],\n",
       "         ...,\n",
       "         [0.14901961],\n",
       "         [0.15294118],\n",
       "         [0.14509804]],\n",
       "\n",
       "        [[0.35686275],\n",
       "         [0.37647059],\n",
       "         [0.41960784],\n",
       "         ...,\n",
       "         [0.18039216],\n",
       "         [0.1372549 ],\n",
       "         [0.15294118]],\n",
       "\n",
       "        [[0.34901961],\n",
       "         [0.38431373],\n",
       "         [0.45882353],\n",
       "         ...,\n",
       "         [0.14509804],\n",
       "         [0.12156863],\n",
       "         [0.10588235]],\n",
       "\n",
       "        ...,\n",
       "\n",
       "        [[0.8       ],\n",
       "         [0.85882353],\n",
       "         [0.90588235],\n",
       "         ...,\n",
       "         [0.96862745],\n",
       "         [0.94117647],\n",
       "         [0.94901961]],\n",
       "\n",
       "        [[0.79215686],\n",
       "         [0.85490196],\n",
       "         [0.89411765],\n",
       "         ...,\n",
       "         [0.98823529],\n",
       "         [0.96862745],\n",
       "         [0.97254902]],\n",
       "\n",
       "        [[0.80392157],\n",
       "         [0.85882353],\n",
       "         [0.87843137],\n",
       "         ...,\n",
       "         [0.99215686],\n",
       "         [0.97647059],\n",
       "         [0.97254902]]],\n",
       "\n",
       "\n",
       "       [[[0.59607843],\n",
       "         [0.59607843],\n",
       "         [0.59215686],\n",
       "         ...,\n",
       "         [0.59215686],\n",
       "         [0.59215686],\n",
       "         [0.59607843]],\n",
       "\n",
       "        [[0.6       ],\n",
       "         [0.45490196],\n",
       "         [0.45098039],\n",
       "         ...,\n",
       "         [0.65882353],\n",
       "         [0.69019608],\n",
       "         [0.59215686]],\n",
       "\n",
       "        [[0.59215686],\n",
       "         [0.43529412],\n",
       "         [0.42745098],\n",
       "         ...,\n",
       "         [0.57647059],\n",
       "         [0.6627451 ],\n",
       "         [0.58431373]],\n",
       "\n",
       "        ...,\n",
       "\n",
       "        [[0.59607843],\n",
       "         [0.47843137],\n",
       "         [0.49803922],\n",
       "         ...,\n",
       "         [0.6       ],\n",
       "         [0.59607843],\n",
       "         [0.59607843]],\n",
       "\n",
       "        [[0.59215686],\n",
       "         [0.4627451 ],\n",
       "         [0.50196078],\n",
       "         ...,\n",
       "         [0.59607843],\n",
       "         [0.59607843],\n",
       "         [0.59607843]],\n",
       "\n",
       "        [[0.59215686],\n",
       "         [0.6       ],\n",
       "         [0.60392157],\n",
       "         ...,\n",
       "         [0.59607843],\n",
       "         [0.59607843],\n",
       "         [0.59607843]]],\n",
       "\n",
       "\n",
       "       [[[0.51372549],\n",
       "         [0.52156863],\n",
       "         [0.5254902 ],\n",
       "         ...,\n",
       "         [0.15294118],\n",
       "         [0.72941176],\n",
       "         [0.83529412]],\n",
       "\n",
       "        [[0.51372549],\n",
       "         [0.52156863],\n",
       "         [0.5254902 ],\n",
       "         ...,\n",
       "         [0.14117647],\n",
       "         [0.77254902],\n",
       "         [0.78823529]],\n",
       "\n",
       "        [[0.51372549],\n",
       "         [0.52156863],\n",
       "         [0.5254902 ],\n",
       "         ...,\n",
       "         [0.13333333],\n",
       "         [0.81176471],\n",
       "         [0.75294118]],\n",
       "\n",
       "        ...,\n",
       "\n",
       "        [[0.38039216],\n",
       "         [0.39215686],\n",
       "         [0.29019608],\n",
       "         ...,\n",
       "         [0.56470588],\n",
       "         [0.57647059],\n",
       "         [0.63921569]],\n",
       "\n",
       "        [[0.37647059],\n",
       "         [0.38823529],\n",
       "         [0.38823529],\n",
       "         ...,\n",
       "         [0.37254902],\n",
       "         [0.58431373],\n",
       "         [0.62352941]],\n",
       "\n",
       "        [[0.37254902],\n",
       "         [0.38431373],\n",
       "         [0.38823529],\n",
       "         ...,\n",
       "         [0.59607843],\n",
       "         [0.76862745],\n",
       "         [0.52156863]]],\n",
       "\n",
       "\n",
       "       ...,\n",
       "\n",
       "\n",
       "       [[[0.85490196],\n",
       "         [0.83137255],\n",
       "         [0.81960784],\n",
       "         ...,\n",
       "         [0.64705882],\n",
       "         [0.6627451 ],\n",
       "         [0.65098039]],\n",
       "\n",
       "        [[0.81176471],\n",
       "         [0.83529412],\n",
       "         [0.83137255],\n",
       "         ...,\n",
       "         [0.6745098 ],\n",
       "         [0.64705882],\n",
       "         [0.67058824]],\n",
       "\n",
       "        [[0.84313725],\n",
       "         [0.81568627],\n",
       "         [0.82352941],\n",
       "         ...,\n",
       "         [0.65882353],\n",
       "         [0.64705882],\n",
       "         [0.65882353]],\n",
       "\n",
       "        ...,\n",
       "\n",
       "        [[0.72156863],\n",
       "         [0.74117647],\n",
       "         [0.82352941],\n",
       "         ...,\n",
       "         [0.9254902 ],\n",
       "         [0.92156863],\n",
       "         [0.9254902 ]],\n",
       "\n",
       "        [[0.83137255],\n",
       "         [0.84705882],\n",
       "         [0.85882353],\n",
       "         ...,\n",
       "         [0.9372549 ],\n",
       "         [0.91372549],\n",
       "         [0.89019608]],\n",
       "\n",
       "        [[0.90980392],\n",
       "         [0.91764706],\n",
       "         [0.88627451],\n",
       "         ...,\n",
       "         [0.92156863],\n",
       "         [0.90196078],\n",
       "         [0.85882353]]],\n",
       "\n",
       "\n",
       "       [[[1.        ],\n",
       "         [1.        ],\n",
       "         [1.        ],\n",
       "         ...,\n",
       "         [0.96470588],\n",
       "         [0.96470588],\n",
       "         [0.94117647]],\n",
       "\n",
       "        [[1.        ],\n",
       "         [0.99607843],\n",
       "         [0.99607843],\n",
       "         ...,\n",
       "         [0.96078431],\n",
       "         [0.96470588],\n",
       "         [0.9254902 ]],\n",
       "\n",
       "        [[0.99607843],\n",
       "         [0.99215686],\n",
       "         [0.99215686],\n",
       "         ...,\n",
       "         [0.96078431],\n",
       "         [0.96078431],\n",
       "         [0.91372549]],\n",
       "\n",
       "        ...,\n",
       "\n",
       "        [[0.78823529],\n",
       "         [0.83921569],\n",
       "         [0.8745098 ],\n",
       "         ...,\n",
       "         [0.84313725],\n",
       "         [0.86666667],\n",
       "         [0.77647059]],\n",
       "\n",
       "        [[0.81176471],\n",
       "         [0.74901961],\n",
       "         [0.84705882],\n",
       "         ...,\n",
       "         [0.83921569],\n",
       "         [0.83137255],\n",
       "         [0.85490196]],\n",
       "\n",
       "        [[0.81960784],\n",
       "         [0.81960784],\n",
       "         [0.78039216],\n",
       "         ...,\n",
       "         [0.82352941],\n",
       "         [0.82745098],\n",
       "         [0.80784314]]],\n",
       "\n",
       "\n",
       "       [[[0.41960784],\n",
       "         [0.45490196],\n",
       "         [0.47843137],\n",
       "         ...,\n",
       "         [0.58431373],\n",
       "         [0.54509804],\n",
       "         [0.54509804]],\n",
       "\n",
       "        [[0.44705882],\n",
       "         [0.4627451 ],\n",
       "         [0.47843137],\n",
       "         ...,\n",
       "         [0.56078431],\n",
       "         [0.60392157],\n",
       "         [0.62352941]],\n",
       "\n",
       "        [[0.43529412],\n",
       "         [0.45490196],\n",
       "         [0.47843137],\n",
       "         ...,\n",
       "         [0.63921569],\n",
       "         [0.63921569],\n",
       "         [0.63529412]],\n",
       "\n",
       "        ...,\n",
       "\n",
       "        [[0.07058824],\n",
       "         [0.12156863],\n",
       "         [0.30196078],\n",
       "         ...,\n",
       "         [0.58039216],\n",
       "         [0.58039216],\n",
       "         [0.56862745]],\n",
       "\n",
       "        [[0.24705882],\n",
       "         [0.40784314],\n",
       "         [0.46666667],\n",
       "         ...,\n",
       "         [0.57254902],\n",
       "         [0.56078431],\n",
       "         [0.54901961]],\n",
       "\n",
       "        [[0.23137255],\n",
       "         [0.36862745],\n",
       "         [0.4627451 ],\n",
       "         ...,\n",
       "         [0.54901961],\n",
       "         [0.54509804],\n",
       "         [0.54117647]]]])"
      ]
     },
     "execution_count": 7,
     "metadata": {},
     "output_type": "execute_result"
    }
   ],
   "source": [
    "X_train"
   ]
  },
  {
   "cell_type": "code",
   "execution_count": 8,
   "metadata": {},
   "outputs": [
    {
     "data": {
      "text/plain": [
       "(22452, 1)"
      ]
     },
     "execution_count": 8,
     "metadata": {},
     "output_type": "execute_result"
    }
   ],
   "source": [
    "y_train = np.array(y_train).reshape(-1, 1)\n",
    "y_test = np.array(y_test).reshape(-1, 1)\n",
    "\n",
    "y_train.shape"
   ]
  },
  {
   "cell_type": "code",
   "execution_count": 9,
   "metadata": {},
   "outputs": [],
   "source": [
    "model = Sequential()\n",
    "model.add(Conv2D(filters=50, kernel_size=(3, 3), padding='same', activation='relu', input_shape = [50, 50, 1]))\n",
    "\n",
    "model.add(Conv2D(filters=50, kernel_size=(3, 3), padding='same', activation='relu'))\n",
    "model.add(MaxPool2D(pool_size=(2,2), strides=2, padding='valid'))\n",
    "model.add(Dropout(0.5))\n",
    "\n",
    "model.add(Flatten())\n",
    "model.add(Dense(units = 200, activation='relu'))\n",
    "model.add(Dense(units=1, activation='sigmoid'))"
   ]
  },
  {
   "cell_type": "code",
   "execution_count": 10,
   "metadata": {},
   "outputs": [
    {
     "name": "stdout",
     "output_type": "stream",
     "text": [
      "Train on 22452 samples, validate on 2485 samples\n",
      "Epoch 1/2\n",
      "22452/22452 [==============================] - 461s 21ms/sample - loss: 0.7039 - accuracy: 0.5045 - val_loss: 0.6946 - val_accuracy: 0.5050\n",
      "Epoch 2/2\n",
      "22452/22452 [==============================] - 478s 21ms/sample - loss: 0.7013 - accuracy: 0.5028 - val_loss: 0.6993 - val_accuracy: 0.5050\n"
     ]
    }
   ],
   "source": [
    "model.compile(loss='binary_crossentropy',optimizer='adam',metrics=['accuracy'])\n",
    "history = model.fit(X_train, y_train, batch_size=2, epochs=2, verbose=1, validation_data=(X_test, y_test))\n"
   ]
  },
  {
   "cell_type": "code",
   "execution_count": 11,
   "metadata": {},
   "outputs": [],
   "source": [
    "hasil = model.predict([X[-10:]])"
   ]
  },
  {
   "cell_type": "code",
   "execution_count": 12,
   "metadata": {},
   "outputs": [
    {
     "data": {
      "text/plain": [
       "array([[0.4396092 ],\n",
       "       [0.4396092 ],\n",
       "       [0.4396092 ],\n",
       "       [0.4396092 ],\n",
       "       [0.4396092 ],\n",
       "       [0.4396092 ],\n",
       "       [0.4396092 ],\n",
       "       [0.4396092 ],\n",
       "       [0.43960917],\n",
       "       [0.43960917]], dtype=float32)"
      ]
     },
     "execution_count": 12,
     "metadata": {},
     "output_type": "execute_result"
    }
   ],
   "source": [
    "hasil"
   ]
  },
  {
   "cell_type": "code",
   "execution_count": 13,
   "metadata": {},
   "outputs": [
    {
     "data": {
      "text/plain": [
       "[0, 1, 0, 1, 0, 0, 0, 1, 0, 1]"
      ]
     },
     "execution_count": 13,
     "metadata": {},
     "output_type": "execute_result"
    }
   ],
   "source": [
    "y[-10:]"
   ]
  },
  {
   "cell_type": "code",
   "execution_count": null,
   "metadata": {},
   "outputs": [],
   "source": []
  }
 ],
 "metadata": {
  "kernelspec": {
   "display_name": "Python 3",
   "language": "python",
   "name": "python3"
  },
  "language_info": {
   "codemirror_mode": {
    "name": "ipython",
    "version": 3
   },
   "file_extension": ".py",
   "mimetype": "text/x-python",
   "name": "python",
   "nbconvert_exporter": "python",
   "pygments_lexer": "ipython3",
   "version": "3.7.4"
  }
 },
 "nbformat": 4,
 "nbformat_minor": 4
}
