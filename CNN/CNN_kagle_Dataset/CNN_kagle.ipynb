{
 "cells": [
  {
   "cell_type": "code",
   "execution_count": 1,
   "metadata": {},
   "outputs": [],
   "source": [
    "import tensorflow as tf\n",
    "from tensorflow.keras.models import Sequential\n",
    "from tensorflow.keras.layers import Dense, Dropout, Activation, Flatten, Conv2D, MaxPooling2D\n",
    "import pickle\n",
    "import numpy as np\n",
    "import matplotlib.pyplot as plt"
   ]
  },
  {
   "cell_type": "code",
   "execution_count": 2,
   "metadata": {},
   "outputs": [
    {
     "data": {
      "text/plain": [
       "array([[[[0.76862745],\n",
       "         [0.77254902],\n",
       "         [0.54901961],\n",
       "         ...,\n",
       "         [0.65882353],\n",
       "         [0.3372549 ],\n",
       "         [0.23529412]],\n",
       "\n",
       "        [[0.25490196],\n",
       "         [0.2745098 ],\n",
       "         [0.39215686],\n",
       "         ...,\n",
       "         [0.82745098],\n",
       "         [0.80784314],\n",
       "         [0.78431373]],\n",
       "\n",
       "        [[0.79215686],\n",
       "         [0.81568627],\n",
       "         [0.43921569],\n",
       "         ...,\n",
       "         [0.76470588],\n",
       "         [0.81568627],\n",
       "         [0.78823529]],\n",
       "\n",
       "        ...,\n",
       "\n",
       "        [[0.18431373],\n",
       "         [0.18431373],\n",
       "         [0.17254902],\n",
       "         ...,\n",
       "         [0.17647059],\n",
       "         [0.32941176],\n",
       "         [0.17647059]],\n",
       "\n",
       "        [[0.18431373],\n",
       "         [0.17647059],\n",
       "         [0.16470588],\n",
       "         ...,\n",
       "         [0.14117647],\n",
       "         [0.31372549],\n",
       "         [0.28627451]],\n",
       "\n",
       "        [[0.19215686],\n",
       "         [0.17647059],\n",
       "         [0.16862745],\n",
       "         ...,\n",
       "         [0.30196078],\n",
       "         [0.23529412],\n",
       "         [0.25490196]]],\n",
       "\n",
       "\n",
       "       [[[0.81568627],\n",
       "         [0.8       ],\n",
       "         [0.82745098],\n",
       "         ...,\n",
       "         [0.81568627],\n",
       "         [0.75294118],\n",
       "         [0.56862745]],\n",
       "\n",
       "        [[0.80784314],\n",
       "         [0.80784314],\n",
       "         [0.78431373],\n",
       "         ...,\n",
       "         [0.81176471],\n",
       "         [0.83529412],\n",
       "         [0.72156863]],\n",
       "\n",
       "        [[0.8       ],\n",
       "         [0.79215686],\n",
       "         [0.77254902],\n",
       "         ...,\n",
       "         [0.85882353],\n",
       "         [0.89803922],\n",
       "         [0.79607843]],\n",
       "\n",
       "        ...,\n",
       "\n",
       "        [[0.31372549],\n",
       "         [0.31764706],\n",
       "         [0.3254902 ],\n",
       "         ...,\n",
       "         [0.36470588],\n",
       "         [0.3372549 ],\n",
       "         [0.3372549 ]],\n",
       "\n",
       "        [[0.3254902 ],\n",
       "         [0.33333333],\n",
       "         [0.34901961],\n",
       "         ...,\n",
       "         [0.36470588],\n",
       "         [0.36470588],\n",
       "         [0.35294118]],\n",
       "\n",
       "        [[0.28235294],\n",
       "         [0.34117647],\n",
       "         [0.32156863],\n",
       "         ...,\n",
       "         [0.36078431],\n",
       "         [0.36078431],\n",
       "         [0.34509804]]],\n",
       "\n",
       "\n",
       "       [[[0.34117647],\n",
       "         [0.22745098],\n",
       "         [0.21176471],\n",
       "         ...,\n",
       "         [0.11764706],\n",
       "         [0.10588235],\n",
       "         [0.10588235]],\n",
       "\n",
       "        [[0.14901961],\n",
       "         [0.10196078],\n",
       "         [0.17254902],\n",
       "         ...,\n",
       "         [0.10588235],\n",
       "         [0.10196078],\n",
       "         [0.10196078]],\n",
       "\n",
       "        [[0.20392157],\n",
       "         [0.11372549],\n",
       "         [0.14117647],\n",
       "         ...,\n",
       "         [0.09019608],\n",
       "         [0.10196078],\n",
       "         [0.10588235]],\n",
       "\n",
       "        ...,\n",
       "\n",
       "        [[0.69803922],\n",
       "         [0.55294118],\n",
       "         [0.65098039],\n",
       "         ...,\n",
       "         [0.50196078],\n",
       "         [0.55686275],\n",
       "         [0.49411765]],\n",
       "\n",
       "        [[0.58431373],\n",
       "         [0.64705882],\n",
       "         [0.62745098],\n",
       "         ...,\n",
       "         [0.52156863],\n",
       "         [0.62745098],\n",
       "         [0.40392157]],\n",
       "\n",
       "        [[0.57254902],\n",
       "         [0.48235294],\n",
       "         [0.44705882],\n",
       "         ...,\n",
       "         [0.6       ],\n",
       "         [0.54901961],\n",
       "         [0.51764706]]]])"
      ]
     },
     "execution_count": 2,
     "metadata": {},
     "output_type": "execute_result"
    }
   ],
   "source": [
    "X = pickle.load(open(\"X.pickle\",\"rb\"))\n",
    "y = pickle.load(open(\"y.pickle\",\"rb\"))\n",
    "\n",
    "X = np.array(X).reshape(-1,50,50,1)\n",
    "X_train= X[:-10]\n",
    "X_train=X_train/255.0\n",
    "\n",
    "y_train=np.array(y[:-10]).reshape(-1,1)\n",
    "\n",
    "X_train[-3:]"
   ]
  },
  {
   "cell_type": "code",
   "execution_count": 3,
   "metadata": {},
   "outputs": [
    {
     "data": {
      "text/plain": [
       "array([[1],\n",
       "       [0],\n",
       "       [0]])"
      ]
     },
     "execution_count": 3,
     "metadata": {},
     "output_type": "execute_result"
    }
   ],
   "source": [
    "y_train[-3:]"
   ]
  },
  {
   "cell_type": "code",
   "execution_count": 4,
   "metadata": {
    "scrolled": true
   },
   "outputs": [
    {
     "name": "stdout",
     "output_type": "stream",
     "text": [
      "Train on 22442 samples, validate on 2494 samples\n",
      "Epoch 1/10\n",
      "22442/22442 [==============================] - 150s 7ms/sample - loss: 0.6641 - accuracy: 0.6102 - val_loss: 0.5861 - val_accuracy: 0.6889\n",
      "Epoch 2/10\n",
      "22442/22442 [==============================] - 144s 6ms/sample - loss: 0.5616 - accuracy: 0.7138 - val_loss: 0.5455 - val_accuracy: 0.7322\n",
      "Epoch 3/10\n",
      "22442/22442 [==============================] - 148s 7ms/sample - loss: 0.5132 - accuracy: 0.7504 - val_loss: 0.5133 - val_accuracy: 0.7538\n",
      "Epoch 4/10\n",
      "22442/22442 [==============================] - 144s 6ms/sample - loss: 0.4742 - accuracy: 0.7782 - val_loss: 0.5025 - val_accuracy: 0.7546\n",
      "Epoch 5/10\n",
      "22442/22442 [==============================] - 143s 6ms/sample - loss: 0.4287 - accuracy: 0.8047 - val_loss: 0.5455 - val_accuracy: 0.7370\n",
      "Epoch 6/10\n",
      "22442/22442 [==============================] - 141s 6ms/sample - loss: 0.3919 - accuracy: 0.8243 - val_loss: 0.4899 - val_accuracy: 0.7795\n",
      "Epoch 7/10\n",
      "22442/22442 [==============================] - 143s 6ms/sample - loss: 0.3530 - accuracy: 0.8456 - val_loss: 0.5237 - val_accuracy: 0.7566\n",
      "Epoch 8/10\n",
      "22442/22442 [==============================] - 143s 6ms/sample - loss: 0.3122 - accuracy: 0.8630 - val_loss: 0.5662 - val_accuracy: 0.7618\n",
      "Epoch 9/10\n",
      "22442/22442 [==============================] - 136s 6ms/sample - loss: 0.2786 - accuracy: 0.8793 - val_loss: 0.5982 - val_accuracy: 0.7614\n",
      "Epoch 10/10\n",
      "22442/22442 [==============================] - 135s 6ms/sample - loss: 0.2419 - accuracy: 0.8980 - val_loss: 0.6550 - val_accuracy: 0.7594\n"
     ]
    },
    {
     "data": {
      "text/plain": [
       "<tensorflow.python.keras.callbacks.History at 0x7f2e97756510>"
      ]
     },
     "execution_count": 4,
     "metadata": {},
     "output_type": "execute_result"
    }
   ],
   "source": [
    "model = Sequential()\n",
    "model.add(Conv2D(64, kernel_size=(3,3),activation='relu', input_shape=X_train.shape[1:]))\n",
    "\n",
    "model.add(Conv2D(64, activation='relu', kernel_size=(3,3)))\n",
    "\n",
    "model.add(MaxPooling2D(pool_size=(2,2)))\n",
    "\n",
    "model.add(Flatten())\n",
    "model.add(Dense(64))\n",
    "\n",
    "model.add(Dense(1, activation='sigmoid'))\n",
    "\n",
    "model.compile(loss=\"binary_crossentropy\",\n",
    "             optimizer=\"adam\",\n",
    "             metrics=['accuracy'])\n",
    "\n",
    "model.fit(X_train, y_train, batch_size=32, validation_split=0.1, epochs=10)"
   ]
  },
  {
   "cell_type": "code",
   "execution_count": 5,
   "metadata": {},
   "outputs": [
    {
     "name": "stdout",
     "output_type": "stream",
     "text": [
      "Model: \"sequential\"\n",
      "_________________________________________________________________\n",
      "Layer (type)                 Output Shape              Param #   \n",
      "=================================================================\n",
      "conv2d (Conv2D)              (None, 48, 48, 64)        640       \n",
      "_________________________________________________________________\n",
      "conv2d_1 (Conv2D)            (None, 46, 46, 64)        36928     \n",
      "_________________________________________________________________\n",
      "max_pooling2d (MaxPooling2D) (None, 23, 23, 64)        0         \n",
      "_________________________________________________________________\n",
      "flatten (Flatten)            (None, 33856)             0         \n",
      "_________________________________________________________________\n",
      "dense (Dense)                (None, 64)                2166848   \n",
      "_________________________________________________________________\n",
      "dense_1 (Dense)              (None, 1)                 65        \n",
      "=================================================================\n",
      "Total params: 2,204,481\n",
      "Trainable params: 2,204,481\n",
      "Non-trainable params: 0\n",
      "_________________________________________________________________\n"
     ]
    }
   ],
   "source": [
    "model.summary()"
   ]
  },
  {
   "cell_type": "code",
   "execution_count": 11,
   "metadata": {},
   "outputs": [],
   "source": [
    "X = pickle.load(open(\"X.pickle\",\"rb\"))\n",
    "\n",
    "X = np.array(X).reshape(-1,50,50,1)\n",
    "X = X/255.0"
   ]
  },
  {
   "cell_type": "code",
   "execution_count": null,
   "metadata": {},
   "outputs": [],
   "source": [
    "hasil = model.predict([X[-10:]])\n",
    "hasil[hasil<=0.5]=0\n",
    "hasil[hasil>0.5]=1\n",
    "hasil"
   ]
  },
  {
   "cell_type": "code",
   "execution_count": 13,
   "metadata": {},
   "outputs": [
    {
     "data": {
      "text/plain": [
       "[0, 1, 0, 1, 0, 0, 0, 1, 0, 1]"
      ]
     },
     "execution_count": 13,
     "metadata": {},
     "output_type": "execute_result"
    }
   ],
   "source": [
    "y[-10:]"
   ]
  },
  {
   "cell_type": "code",
   "execution_count": 15,
   "metadata": {},
   "outputs": [],
   "source": [
    "model.save('my_model.h5')"
   ]
  }
 ],
 "metadata": {
  "kernelspec": {
   "display_name": "Python 3",
   "language": "python",
   "name": "python3"
  },
  "language_info": {
   "codemirror_mode": {
    "name": "ipython",
    "version": 3
   },
   "file_extension": ".py",
   "mimetype": "text/x-python",
   "name": "python",
   "nbconvert_exporter": "python",
   "pygments_lexer": "ipython3",
   "version": "3.7.4"
  }
 },
 "nbformat": 4,
 "nbformat_minor": 4
}
