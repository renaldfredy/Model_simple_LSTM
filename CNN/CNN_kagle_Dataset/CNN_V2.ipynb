{
 "cells": [
  {
   "cell_type": "code",
   "execution_count": 1,
   "metadata": {},
   "outputs": [],
   "source": [
    "import tensorflow as tf\n",
    "from tensorflow.keras.models import Sequential\n",
    "from tensorflow.keras.layers import Dense, Dropout, Activation, Flatten, Conv2D, MaxPooling2D\n",
    "import pickle\n",
    "import numpy as np\n",
    "import matplotlib.pyplot as plt"
   ]
  },
  {
   "cell_type": "code",
   "execution_count": 2,
   "metadata": {},
   "outputs": [
    {
     "data": {
      "text/plain": [
       "array([[[0.76862745, 0.77254902, 0.54901961, ..., 0.65882353,\n",
       "         0.3372549 , 0.23529412],\n",
       "        [0.25490196, 0.2745098 , 0.39215686, ..., 0.82745098,\n",
       "         0.80784314, 0.78431373],\n",
       "        [0.79215686, 0.81568627, 0.43921569, ..., 0.76470588,\n",
       "         0.81568627, 0.78823529],\n",
       "        ...,\n",
       "        [0.18431373, 0.18431373, 0.17254902, ..., 0.17647059,\n",
       "         0.32941176, 0.17647059],\n",
       "        [0.18431373, 0.17647059, 0.16470588, ..., 0.14117647,\n",
       "         0.31372549, 0.28627451],\n",
       "        [0.19215686, 0.17647059, 0.16862745, ..., 0.30196078,\n",
       "         0.23529412, 0.25490196]],\n",
       "\n",
       "       [[0.81568627, 0.8       , 0.82745098, ..., 0.81568627,\n",
       "         0.75294118, 0.56862745],\n",
       "        [0.80784314, 0.80784314, 0.78431373, ..., 0.81176471,\n",
       "         0.83529412, 0.72156863],\n",
       "        [0.8       , 0.79215686, 0.77254902, ..., 0.85882353,\n",
       "         0.89803922, 0.79607843],\n",
       "        ...,\n",
       "        [0.31372549, 0.31764706, 0.3254902 , ..., 0.36470588,\n",
       "         0.3372549 , 0.3372549 ],\n",
       "        [0.3254902 , 0.33333333, 0.34901961, ..., 0.36470588,\n",
       "         0.36470588, 0.35294118],\n",
       "        [0.28235294, 0.34117647, 0.32156863, ..., 0.36078431,\n",
       "         0.36078431, 0.34509804]],\n",
       "\n",
       "       [[0.34117647, 0.22745098, 0.21176471, ..., 0.11764706,\n",
       "         0.10588235, 0.10588235],\n",
       "        [0.14901961, 0.10196078, 0.17254902, ..., 0.10588235,\n",
       "         0.10196078, 0.10196078],\n",
       "        [0.20392157, 0.11372549, 0.14117647, ..., 0.09019608,\n",
       "         0.10196078, 0.10588235],\n",
       "        ...,\n",
       "        [0.69803922, 0.55294118, 0.65098039, ..., 0.50196078,\n",
       "         0.55686275, 0.49411765],\n",
       "        [0.58431373, 0.64705882, 0.62745098, ..., 0.52156863,\n",
       "         0.62745098, 0.40392157],\n",
       "        [0.57254902, 0.48235294, 0.44705882, ..., 0.6       ,\n",
       "         0.54901961, 0.51764706]]])"
      ]
     },
     "execution_count": 2,
     "metadata": {},
     "output_type": "execute_result"
    }
   ],
   "source": [
    "X = pickle.load(open(\"X.pickle\",\"rb\"))\n",
    "y = pickle.load(open(\"y.pickle\",\"rb\"))\n",
    "\n",
    "X = np.array(X).reshape(-1,50,50)\n",
    "X_train= X[:-10]\n",
    "X_train=X_train/255.0\n",
    "\n",
    "y_train=np.array(y[:-10]).reshape(-1,1)\n",
    "\n",
    "X_train[-3:]"
   ]
  },
  {
   "cell_type": "code",
   "execution_count": 3,
   "metadata": {},
   "outputs": [
    {
     "data": {
      "text/plain": [
       "array([[1],\n",
       "       [0],\n",
       "       [0]])"
      ]
     },
     "execution_count": 3,
     "metadata": {},
     "output_type": "execute_result"
    }
   ],
   "source": [
    "y_train[-3:]"
   ]
  },
  {
   "cell_type": "code",
   "execution_count": 4,
   "metadata": {
    "scrolled": false
   },
   "outputs": [
    {
     "name": "stdout",
     "output_type": "stream",
     "text": [
      "Train on 22442 samples, validate on 2494 samples\n",
      "Epoch 1/10\n",
      "WARNING:tensorflow:From /home/machfudh/miniconda3/envs/machine_learning/lib/python3.7/site-packages/tensorflow_core/python/ops/nn_impl.py:183: where (from tensorflow.python.ops.array_ops) is deprecated and will be removed in a future version.\n",
      "Instructions for updating:\n",
      "Use tf.where in 2.0, which has the same broadcast rule as np.where\n",
      "22442/22442 [==============================] - 3s 120us/sample - loss: 0.6957 - accuracy: 0.5333 - val_loss: 0.6792 - val_accuracy: 0.5822\n",
      "Epoch 2/10\n",
      "22442/22442 [==============================] - 2s 92us/sample - loss: 0.6796 - accuracy: 0.5631 - val_loss: 0.6687 - val_accuracy: 0.5866\n",
      "Epoch 3/10\n",
      "22442/22442 [==============================] - 2s 91us/sample - loss: 0.6712 - accuracy: 0.5778 - val_loss: 0.6638 - val_accuracy: 0.6022\n",
      "Epoch 4/10\n",
      "22442/22442 [==============================] - 2s 90us/sample - loss: 0.6698 - accuracy: 0.5875 - val_loss: 0.6627 - val_accuracy: 0.6115\n",
      "Epoch 5/10\n",
      "22442/22442 [==============================] - 2s 91us/sample - loss: 0.6668 - accuracy: 0.5911 - val_loss: 0.6608 - val_accuracy: 0.6099\n",
      "Epoch 6/10\n",
      "22442/22442 [==============================] - 2s 92us/sample - loss: 0.6657 - accuracy: 0.5935 - val_loss: 0.6655 - val_accuracy: 0.5990\n",
      "Epoch 7/10\n",
      "22442/22442 [==============================] - 2s 92us/sample - loss: 0.6655 - accuracy: 0.5932 - val_loss: 0.6623 - val_accuracy: 0.6087\n",
      "Epoch 8/10\n",
      "22442/22442 [==============================] - 2s 93us/sample - loss: 0.6639 - accuracy: 0.5951 - val_loss: 0.6612 - val_accuracy: 0.6099\n",
      "Epoch 9/10\n",
      "22442/22442 [==============================] - 2s 92us/sample - loss: 0.6637 - accuracy: 0.6003 - val_loss: 0.6585 - val_accuracy: 0.6051\n",
      "Epoch 10/10\n",
      "22442/22442 [==============================] - 2s 92us/sample - loss: 0.6620 - accuracy: 0.6031 - val_loss: 0.6620 - val_accuracy: 0.6010\n"
     ]
    },
    {
     "data": {
      "text/plain": [
       "<tensorflow.python.keras.callbacks.History at 0x7f46246fbe10>"
      ]
     },
     "execution_count": 4,
     "metadata": {},
     "output_type": "execute_result"
    }
   ],
   "source": [
    "model = Sequential()\n",
    "\n",
    "model.add(Flatten(input_shape=(50,50)))\n",
    "model.add(Dense(128, activation='relu'))\n",
    "model.add(Dropout(0.2))\n",
    "\n",
    "model.add(Dense(64, activation='relu'))\n",
    "\n",
    "\n",
    "model.add(Dense(1, activation='sigmoid'))\n",
    "\n",
    "model.compile(loss=\"binary_crossentropy\",\n",
    "             optimizer=\"adam\",\n",
    "             metrics=['accuracy'])\n",
    "\n",
    "model.fit(X_train, y_train, validation_split=0.1, epochs=10)"
   ]
  },
  {
   "cell_type": "code",
   "execution_count": 5,
   "metadata": {},
   "outputs": [
    {
     "name": "stdout",
     "output_type": "stream",
     "text": [
      "Model: \"sequential\"\n",
      "_________________________________________________________________\n",
      "Layer (type)                 Output Shape              Param #   \n",
      "=================================================================\n",
      "flatten (Flatten)            (None, 2500)              0         \n",
      "_________________________________________________________________\n",
      "dense (Dense)                (None, 128)               320128    \n",
      "_________________________________________________________________\n",
      "dropout (Dropout)            (None, 128)               0         \n",
      "_________________________________________________________________\n",
      "dense_1 (Dense)              (None, 64)                8256      \n",
      "_________________________________________________________________\n",
      "dense_2 (Dense)              (None, 1)                 65        \n",
      "=================================================================\n",
      "Total params: 328,449\n",
      "Trainable params: 328,449\n",
      "Non-trainable params: 0\n",
      "_________________________________________________________________\n"
     ]
    }
   ],
   "source": [
    "model.summary()"
   ]
  },
  {
   "cell_type": "code",
   "execution_count": 6,
   "metadata": {},
   "outputs": [],
   "source": [
    "X = pickle.load(open(\"X.pickle\",\"rb\"))\n",
    "\n",
    "X = np.array(X).reshape(-1,50,50)\n",
    "X = X/255.0"
   ]
  },
  {
   "cell_type": "code",
   "execution_count": 7,
   "metadata": {},
   "outputs": [
    {
     "data": {
      "text/plain": [
       "array([[0.],\n",
       "       [1.],\n",
       "       [0.],\n",
       "       [0.],\n",
       "       [0.],\n",
       "       [0.],\n",
       "       [0.],\n",
       "       [0.],\n",
       "       [1.],\n",
       "       [1.]], dtype=float32)"
      ]
     },
     "execution_count": 7,
     "metadata": {},
     "output_type": "execute_result"
    }
   ],
   "source": [
    "hasil = model.predict([X[-10:]])\n",
    "hasil[hasil<=0.5]=0\n",
    "hasil[hasil>0.5]=1\n",
    "hasil"
   ]
  },
  {
   "cell_type": "code",
   "execution_count": 8,
   "metadata": {},
   "outputs": [
    {
     "data": {
      "text/plain": [
       "[0, 1, 0, 1, 0, 0, 0, 1, 0, 1]"
      ]
     },
     "execution_count": 8,
     "metadata": {},
     "output_type": "execute_result"
    }
   ],
   "source": [
    "y[-10:]"
   ]
  },
  {
   "cell_type": "code",
   "execution_count": 15,
   "metadata": {},
   "outputs": [],
   "source": [
    "model.save('my_model.h5')"
   ]
  }
 ],
 "metadata": {
  "kernelspec": {
   "display_name": "Python 3",
   "language": "python",
   "name": "python3"
  },
  "language_info": {
   "codemirror_mode": {
    "name": "ipython",
    "version": 3
   },
   "file_extension": ".py",
   "mimetype": "text/x-python",
   "name": "python",
   "nbconvert_exporter": "python",
   "pygments_lexer": "ipython3",
   "version": "3.7.3"
  }
 },
 "nbformat": 4,
 "nbformat_minor": 4
}
